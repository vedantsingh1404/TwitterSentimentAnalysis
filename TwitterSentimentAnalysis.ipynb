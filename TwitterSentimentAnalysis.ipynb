{
 "cells": [
  {
   "cell_type": "code",
   "execution_count": 1,
   "metadata": {},
   "outputs": [],
   "source": [
    "import nltk\n",
    "from nltk import pos_tag\n",
    "from nltk.tokenize import word_tokenize\n",
    "import pandas as pd\n",
    "from nltk.corpus import stopwords, wordnet\n",
    "import string\n",
    "from nltk.stem import WordNetLemmatizer\n",
    "from sklearn.feature_extraction.text import CountVectorizer\n",
    "from sklearn.naive_bayes import GaussianNB, BernoulliNB, MultinomialNB\n",
    "from sklearn.model_selection import train_test_split"
   ]
  },
  {
   "cell_type": "code",
   "execution_count": 2,
   "metadata": {},
   "outputs": [],
   "source": [
    "data = pd.read_csv(\"/Users/vedantsingh/Downloads/twitter-airline-sentiment/Tweets.csv\")\n",
    "air = ['southwestair', 'jetblue', 'usairways', 'united', 'virginamerica', 'americanair']"
   ]
  },
  {
   "cell_type": "code",
   "execution_count": 3,
   "metadata": {},
   "outputs": [],
   "source": [
    "data.drop(columns = ['tweet_id', 'airline', 'airline_sentiment_gold', 'name', 'negativereason_gold', 'retweet_count', 'tweet_coord', 'tweet_created', 'tweet_location', 'user_timezone', 'airline_sentiment_confidence', 'negativereason', 'negativereason_confidence'], inplace = True)"
   ]
  },
  {
   "cell_type": "code",
   "execution_count": 4,
   "metadata": {},
   "outputs": [],
   "source": [
    "docs = []\n",
    "for i in range(len(data)) :\n",
    "    docs.append((word_tokenize(data.iloc[i, 1]), data.iloc[i, 0]))"
   ]
  },
  {
   "cell_type": "code",
   "execution_count": 5,
   "metadata": {},
   "outputs": [],
   "source": [
    "stops = list(stopwords.words('english'))\n",
    "puncs = list(string.punctuation)\n",
    "stops = stops + puncs + air"
   ]
  },
  {
   "cell_type": "code",
   "execution_count": 6,
   "metadata": {},
   "outputs": [],
   "source": [
    "def simple_pos(pos) :\n",
    "    if pos.startswith('J') :\n",
    "        return wordnet.ADJ\n",
    "    elif pos.startswith('N') :\n",
    "        return wordnet.NOUN\n",
    "    elif pos.startswith('V') :\n",
    "        return wordnet.VERB\n",
    "    elif pos.startswith('R') :\n",
    "        return wordnet.ADV\n",
    "    else :\n",
    "        return wordnet.NOUN"
   ]
  },
  {
   "cell_type": "code",
   "execution_count": 7,
   "metadata": {},
   "outputs": [],
   "source": [
    "lemmatizer = WordNetLemmatizer()\n",
    "clean_docs = []\n",
    "for i in range (len(docs)) :\n",
    "    output = []\n",
    "    for w in docs[i][0] :\n",
    "        if w.lower() not in stops :\n",
    "            pos = pos_tag([w])\n",
    "            clean_word = lemmatizer.lemmatize(w, pos = simple_pos(pos[0][1]))\n",
    "            output.append(clean_word.lower())\n",
    "    clean_docs.append((output, docs[i][1]))"
   ]
  },
  {
   "cell_type": "code",
   "execution_count": 8,
   "metadata": {},
   "outputs": [],
   "source": [
    "train, test = train_test_split(clean_docs)"
   ]
  },
  {
   "cell_type": "code",
   "execution_count": 9,
   "metadata": {},
   "outputs": [],
   "source": [
    "train_docs = [\" \".join(docs) for docs, cat in train]\n",
    "count_vec = CountVectorizer(max_features = 4000)\n",
    "a = count_vec.fit_transform(train_docs)\n",
    "x_train = a.todense()\n",
    "y_train = [cat for doc, cat in train]"
   ]
  },
  {
   "cell_type": "code",
   "execution_count": 10,
   "metadata": {},
   "outputs": [],
   "source": [
    "test_docs = [\" \".join(docs) for docs, cat in test]\n",
    "b = count_vec.transform(test_docs)\n",
    "x_test = b.todense()\n",
    "y_test = [cat for doc, cat in test]"
   ]
  },
  {
   "cell_type": "code",
   "execution_count": 11,
   "metadata": {},
   "outputs": [
    {
     "data": {
      "text/plain": [
       "(0.8332422586520947, 0.7644808743169399)"
      ]
     },
     "execution_count": 11,
     "metadata": {},
     "output_type": "execute_result"
    }
   ],
   "source": [
    "bnb = BernoulliNB()\n",
    "bnb.fit(x_train, y_train)\n",
    "bnb.score(x_train, y_train), bnb.score(x_test, y_test)"
   ]
  }
 ],
 "metadata": {
  "kernelspec": {
   "display_name": "Python 3",
   "language": "python",
   "name": "python3"
  },
  "language_info": {
   "codemirror_mode": {
    "name": "ipython",
    "version": 3
   },
   "file_extension": ".py",
   "mimetype": "text/x-python",
   "name": "python",
   "nbconvert_exporter": "python",
   "pygments_lexer": "ipython3",
   "version": "3.7.1"
  }
 },
 "nbformat": 4,
 "nbformat_minor": 2
}
